{
 "metadata": {
  "language_info": {
   "codemirror_mode": {
    "name": "ipython",
    "version": 3
   },
   "file_extension": ".py",
   "mimetype": "text/x-python",
   "name": "python",
   "nbconvert_exporter": "python",
   "pygments_lexer": "ipython3",
   "version": "3.8.8"
  },
  "orig_nbformat": 2,
  "kernelspec": {
   "name": "python388jvsc74a57bd0b8eac40dc40dfee193fc75e448d7129280d537d209f6594539fc58c0f1d96d80",
   "display_name": "Python 3.8.8 64-bit ('chem': conda)"
  }
 },
 "nbformat": 4,
 "nbformat_minor": 2,
 "cells": [
  {
   "cell_type": "code",
   "execution_count": 1,
   "metadata": {},
   "outputs": [
    {
     "output_type": "stream",
     "name": "stdout",
     "text": [
      "[0. 1. 0. ... 0. 0. 0.]\n(2048,)\n"
     ]
    }
   ],
   "source": [
    "from rdkit import Chem\n",
    "from rdkit.Chem.AllChem import GetMorganFingerprintAsBitVect\n",
    "from rdkit.DataStructs.cDataStructs import ConvertToNumpyArray\n",
    "import numpy as np\n",
    "import torch\n",
    "import torch_geometric\n",
    "\n",
    "atorvastatin_smiles = 'O=C(O)C[C@H](O)C[C@H](O)CCn2c(c(c(c2c1ccc(F)cc1)c3ccccc3)C(=O)Nc4ccccc4)C(C)C'\n",
    "atorvastatin = Chem.MolFromSmiles(atorvastatin_smiles) # Atorvastatin (aka Lipitor) is one of the world's best-selling drugs.\n",
    "\n",
    "fingerprint = GetMorganFingerprintAsBitVect(atorvastatin, radius=2, nBits=2048)\n",
    "\n",
    "fp_array = np.zeros((1, ))\n",
    "ConvertToNumpyArray(fingerprint, fp_array)\n",
    "\n",
    "# Fingerprints\n",
    "print(fp_array)\n",
    "# [0. 1. 0. ... 0. 0. 0.]\n",
    "\n",
    "print(fp_array.shape)\n",
    "# (2048,)"
   ]
  },
  {
   "source": [
    "![alt text](../../metadata/Snipaste_2021-05-21_20-26-00.png \"explanation\")"
   ],
   "cell_type": "markdown",
   "metadata": {}
  },
  {
   "source": [
    "## 2a. Atom Features and bond connections (edge indices)\n",
    "\n",
    "We will use these atom features:\n",
    "\n",
    "a) Atomic number (which determines atom type as well)\n",
    "\n",
    "b) The number of hydrogens attached to the atom.\n",
    "\n",
    "These are basic features but sufficient for our purposes."
   ],
   "cell_type": "markdown",
   "metadata": {}
  },
  {
   "cell_type": "code",
   "execution_count": 2,
   "metadata": {},
   "outputs": [],
   "source": [
    "def get_atom_features(mol):\n",
    "    atomic_number = []\n",
    "    num_hs = []\n",
    "    \n",
    "    for atom in mol.GetAtoms():\n",
    "        # print(atom.GetAtomicNum())\n",
    "        # 原子编号\n",
    "        atomic_number.append(atom.GetAtomicNum())\n",
    "        num_hs.append(atom.GetTotalNumHs(includeNeighbors=True))\n",
    "        \n",
    "    return torch.tensor([atomic_number, num_hs]).t()\n",
    "\n",
    "def get_edge_index(mol):\n",
    "    row, col = [], []\n",
    "    \n",
    "    for bond in mol.GetBonds():\n",
    "        start, end = bond.GetBeginAtomIdx(), bond.GetEndAtomIdx()\n",
    "        row += [start, end]\n",
    "        col += [end, start]\n",
    "        \n",
    "    return torch.tensor([row, col], dtype=torch.long)\n",
    "\n",
    "from torch_geometric.data.dataloader import DataLoader\n",
    "\n",
    "def prepare_dataloader(mol_list):\n",
    "    data_list = []\n",
    "\n",
    "    for i, mol in enumerate(mol_list):\n",
    "\n",
    "        x = get_atom_features(mol)\n",
    "        edge_index = get_edge_index(mol)\n",
    "\n",
    "        data = torch_geometric.data.data.Data(x=x, edge_index=edge_index)\n",
    "        data_list.append(data)\n",
    "\n",
    "    return DataLoader(data_list, batch_size=3, shuffle=False), data_list"
   ]
  },
  {
   "cell_type": "code",
   "execution_count": 3,
   "metadata": {},
   "outputs": [
    {
     "output_type": "stream",
     "name": "stdout",
     "text": [
      "[Data(edge_index=[2, 46], x=[22, 2]), Data(edge_index=[2, 66], x=[32, 2]), Data(edge_index=[2, 38], x=[18, 2]), Data(edge_index=[2, 42], x=[20, 2]), Data(edge_index=[2, 40], x=[19, 2]), Data(edge_index=[2, 68], x=[31, 2])]\nBatch(batch=[72], edge_index=[2, 150], ptr=[4], x=[72, 2])\n"
     ]
    }
   ],
   "source": [
    "smiles_list = ['Cc1cc(c(C)n1c2ccc(F)cc2)S(=O)(=O)NCC(=O)N',\n",
    "'CN(CC(=O)N)S(=O)(=O)c1c(C)n(c(C)c1S(=O)(=O)N(C)CC(=O)N)c2ccc(F)cc2',\n",
    "'Fc1ccc(cc1)n2cc(COC(=O)CBr)nn2',\n",
    "'CCOC(=O)COCc1cn(nn1)c2ccc(F)cc2',\n",
    "'COC(=O)COCc1cn(nn1)c2ccc(F)cc2',\n",
    "'Fc1ccc(cc1)n2cc(COCC(=O)OCc3cn(nn3)c4ccc(F)cc4)nn2']\n",
    "\n",
    "mol_list = [Chem.MolFromSmiles(smi) for smi in smiles_list]\n",
    "\n",
    "dloader, dlist = prepare_dataloader(mol_list)\n",
    "print(dlist)\n",
    "#[Data(edge_index=[2, 46], x=[22, 2]),\n",
    "# Data(edge_index=[2, 66], x=[32, 2]),\n",
    "# Data(edge_index=[2, 38], x=[18, 2]),\n",
    "# Data(edge_index=[2, 42], x=[20, 2]),\n",
    "# Data(edge_index=[2, 40], x=[19, 2]),\n",
    "# Data(edge_index=[2, 68], x=[31, 2])]\n",
    "\n",
    "for batch in dloader:\n",
    "  break\n",
    "\n",
    "print(batch)\n",
    "#Batch(batch=[72], edge_index=[2, 150], x=[72, 2])"
   ]
  },
  {
   "source": [
    "![alt text](../../metadata/Snipaste_2021-05-24_15-15-53.png \"png\")"
   ],
   "cell_type": "markdown",
   "metadata": {}
  },
  {
   "source": [
    "# Define the model"
   ],
   "cell_type": "markdown",
   "metadata": {}
  },
  {
   "cell_type": "code",
   "execution_count": 19,
   "metadata": {},
   "outputs": [],
   "source": [
    "from torch_geometric.nn import MessagePassing\n",
    "from torch_scatter import scatter_add\n",
    "from torch_geometric.utils import add_self_loops, degree\n",
    "import torch.nn as nn \n",
    "\n",
    "class NeuralLoop(MessagePassing):\n",
    "    def __init__(self, atom_features, fp_size):\n",
    "        super(NeuralLoop, self).__init__(aggr='add')\n",
    "        self.H = nn.Linear(atom_features, atom_features)\n",
    "        self.W = nn.Linear(atom_features, fp_size)\n",
    "        \n",
    "    def forward(self, x, edge_index):\n",
    "        # x shape: [Number of atoms in molecule, Number of atom features]; [N, in_channels]\n",
    "        # edge_index shape: [2, E]; E is the number of edges\n",
    "        edge_index, _ = add_self_loops(edge_index, num_nodes=x.size(0))\n",
    "        return self.propagate(edge_index, size=(x.size(0), x.size(0)), x=x)\n",
    "    \n",
    "    def message(self, x_j, edge_index, size):\n",
    "        # We simply sum all the neighbouring nodes (including self-loops)\n",
    "        # This is done implicitly by PyTorch-Geometric :)\n",
    "        return x_j \n",
    "    \n",
    "    def update(self, v):\n",
    "        \n",
    "        updated_atom_features = self.H(v).sigmoid()\n",
    "        updated_fingerprint = self.W(updated_atom_features).softmax(dim=-1)\n",
    "        \n",
    "        return updated_atom_features, updated_fingerprint # shape [N, atom_features]\n",
    "    \n",
    "class NeuralFP(nn.Module):\n",
    "    def __init__(self, atom_features=52, fp_size=2048):\n",
    "        super(NeuralFP, self).__init__()\n",
    "        \n",
    "        self.atom_features = 52\n",
    "        self.fp_size = 2048\n",
    "        \n",
    "        self.loop1 = NeuralLoop(atom_features=atom_features, fp_size=fp_size)\n",
    "        self.loop2 = NeuralLoop(atom_features=atom_features, fp_size=fp_size)\n",
    "        self.loops = nn.ModuleList([self.loop1, self.loop2])\n",
    "        \n",
    "    def forward(self, data):\n",
    "        fingerprint = torch.zeros((data.batch.shape[0], self.fp_size), dtype=torch.float)\n",
    "        \n",
    "        out = data.x\n",
    "        for idx, loop in enumerate(self.loops):\n",
    "            updated_atom_features, updated_fingerprint = loop(out, data.edge_index)\n",
    "            out = updated_atom_features\n",
    "            fingerprint += updated_fingerprint\n",
    "            \n",
    "        return scatter_add(fingerprint, data.batch, dim=0)"
   ]
  },
  {
   "cell_type": "code",
   "execution_count": null,
   "metadata": {},
   "outputs": [],
   "source": []
  }
 ]
}